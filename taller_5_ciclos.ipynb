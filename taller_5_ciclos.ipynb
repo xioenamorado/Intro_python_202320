{
  "nbformat": 4,
  "nbformat_minor": 0,
  "metadata": {
    "colab": {
      "provenance": [],
      "authorship_tag": "ABX9TyPc2LJgbHdqkDbqnxFQ6AKJ",
      "include_colab_link": true
    },
    "kernelspec": {
      "name": "python3",
      "display_name": "Python 3"
    },
    "language_info": {
      "name": "python"
    }
  },
  "cells": [
    {
      "cell_type": "markdown",
      "metadata": {
        "id": "view-in-github",
        "colab_type": "text"
      },
      "source": [
        "<a href=\"https://colab.research.google.com/github/xioenamorado/Intro_python_202320/blob/main/taller_5_ciclos.ipynb\" target=\"_parent\"><img src=\"https://colab.research.google.com/assets/colab-badge.svg\" alt=\"Open In Colab\"/></a>"
      ]
    },
    {
      "cell_type": "markdown",
      "source": [
        "nombres: xiomara Enamorado Racero - Juan Pablo Leiva Torres\n",
        "ID: 000499773 - 000442105\n",
        "email: xiomara.enamorado@upb.edu.co - juan.leivat@upb.edu.co"
      ],
      "metadata": {
        "id": "anCAJSruyMqK"
      }
    },
    {
      "cell_type": "code",
      "execution_count": 1,
      "metadata": {
        "colab": {
          "base_uri": "https://localhost:8080/"
        },
        "id": "4FnbwMhPtxjr",
        "outputId": "9cb20dd1-04ec-4fbe-e85d-dd2770d02450"
      },
      "outputs": [
        {
          "output_type": "stream",
          "name": "stdout",
          "text": [
            "Ingrese un número entero positivo diferente de 0: 7\n",
            "1\n",
            "2\n",
            "3\n",
            "4\n",
            "5\n",
            "6\n",
            "7\n"
          ]
        }
      ],
      "source": [
        "# problema 1\n",
        "n = float(int(input(\"Ingrese un número entero positivo diferente de 0: \")))\n",
        "\n",
        "if n <= 0:\n",
        "    print(\"DIJE POSITIVO Y DIFERENTE DE 0\")\n",
        "else:\n",
        "    actual = 1\n",
        "\n",
        "    while actual <= n:\n",
        "        print(actual)\n",
        "        actual += 1"
      ]
    },
    {
      "cell_type": "code",
      "source": [
        "# problema 2\n",
        "suma = 0\n",
        "\n",
        "for numero in range(1, 101):\n",
        "    if numero % 2 == 0:\n",
        "        suma += numero\n",
        "\n",
        "print(\"La suma de los números pares del 1 al 100 es\", suma)"
      ],
      "metadata": {
        "colab": {
          "base_uri": "https://localhost:8080/"
        },
        "id": "pyXzX757t4m6",
        "outputId": "40791608-abe6-405c-8ff2-0b7c50187844"
      },
      "execution_count": 2,
      "outputs": [
        {
          "output_type": "stream",
          "name": "stdout",
          "text": [
            "La suma de los números pares del 1 al 100 es 2550\n"
          ]
        }
      ]
    },
    {
      "cell_type": "code",
      "source": [
        "# problema 3\n",
        "n = int(input('ingrese un numero para la serie = '))\n",
        "\n",
        "for i in range(1, n+1):\n",
        "    for j in range(1, i+1):\n",
        "        print(j, end=\"\")\n",
        "    print()"
      ],
      "metadata": {
        "colab": {
          "base_uri": "https://localhost:8080/"
        },
        "id": "sPt_8V2PuE69",
        "outputId": "aa6f5d8c-1eaf-47f9-e8dd-fb831bf1ee90"
      },
      "execution_count": 4,
      "outputs": [
        {
          "output_type": "stream",
          "name": "stdout",
          "text": [
            "ingrese un numero para la serie = 5\n",
            "1\n",
            "12\n",
            "123\n",
            "1234\n",
            "12345\n"
          ]
        }
      ]
    },
    {
      "cell_type": "code",
      "source": [
        "# problema 3\n",
        "num = int(input(\"Ingrese un número entero positivo: \"))\n",
        "\n",
        "if num <= 1:\n",
        "    print(\"El número no es primo: \")\n",
        "else:\n",
        "    numprimo = True\n",
        "    divisor = 2\n",
        "\n",
        "    while divisor * divisor <= num:\n",
        "        if num % divisor == 0:\n",
        "            numprimo = False\n",
        "            break\n",
        "        divisor += 1\n",
        "\n",
        "    if numprimo:\n",
        "        print(\"El número es primo\")\n",
        "    else:\n",
        "        print(\"El número no es primo\")"
      ],
      "metadata": {
        "colab": {
          "base_uri": "https://localhost:8080/"
        },
        "id": "8rR5hQ3juPO_",
        "outputId": "326ceddb-ec2f-41d9-f1aa-22669a68240a"
      },
      "execution_count": 5,
      "outputs": [
        {
          "output_type": "stream",
          "name": "stdout",
          "text": [
            "Ingrese un número entero positivo: 8\n",
            "El número no es primo\n"
          ]
        }
      ]
    },
    {
      "cell_type": "code",
      "source": [
        "#problema 4\n",
        "while True:\n",
        "    numero1 = float(input(\"Ingresa un número: \"))\n",
        "    numero2 = float(input(\"Ingresa otro número: \"))\n",
        "\n",
        "    operacion = input(\"Elige una operación (+, -, *, /): \")\n",
        "\n",
        "    if operacion == \"+\":\n",
        "        resultado = numero1 + numero2\n",
        "    elif operacion == \"-\":\n",
        "        resultado = numero1 - numero2\n",
        "    elif operacion == \"*\":\n",
        "        resultado = numero1 * numero2\n",
        "    elif operacion == \"/\":\n",
        "\n",
        "        if numero2 != 0:\n",
        "            resultado = numero1 / numero2\n",
        "        else:\n",
        "            print(\"NO SE PUEDE DIVIDIR ENTRE 0\")\n",
        "            continue\n",
        "\n",
        "    print(\"Resultado de la operación:\", resultado)\n",
        "\n",
        "    salir = input(\"Ingresa 'salir' para salir y si quieres continuar ingresa 'continuar': \")\n",
        "    if salir == \"salir\":\n",
        "        break"
      ],
      "metadata": {
        "colab": {
          "base_uri": "https://localhost:8080/"
        },
        "id": "r5CYkRNRvRAl",
        "outputId": "40f1bd83-5f59-4811-970f-dc9bbb9bdc8c"
      },
      "execution_count": 6,
      "outputs": [
        {
          "name": "stdout",
          "output_type": "stream",
          "text": [
            "Ingresa un número: 9\n",
            "Ingresa otro número: 6\n",
            "Elige una operación (+, -, *, /): *\n",
            "Resultado de la operación: 54.0\n",
            "Ingresa 'salir' para salir y si quieres continuar ingresa 'continuar': salir\n"
          ]
        }
      ]
    },
    {
      "cell_type": "code",
      "source": [
        "#problema 5\n",
        "num = int(input(\"Ingrese un número: \"))\n",
        "\n",
        "for i in range(num, 0, -1):\n",
        "    print(i)"
      ],
      "metadata": {
        "colab": {
          "base_uri": "https://localhost:8080/"
        },
        "id": "9D-8L_vSvac6",
        "outputId": "ea2ea34e-9c1e-444c-cf52-251659d6fb26"
      },
      "execution_count": 7,
      "outputs": [
        {
          "output_type": "stream",
          "name": "stdout",
          "text": [
            "Ingrese un número: 2\n",
            "2\n",
            "1\n"
          ]
        }
      ]
    },
    {
      "cell_type": "code",
      "source": [
        "#problema 6\n",
        "n = int(input(\"Ingrese el valor máximo: \"))\n",
        "\n",
        "num1, num2 = 0, 1\n",
        "\n",
        "while num1 <= n:\n",
        "    print(num1)\n",
        "    num1, num2 = num2, num1 + num2"
      ],
      "metadata": {
        "colab": {
          "base_uri": "https://localhost:8080/"
        },
        "id": "YHr2fKgbvuCY",
        "outputId": "9073197c-74dd-4065-f3f5-f57021514baa"
      },
      "execution_count": 8,
      "outputs": [
        {
          "output_type": "stream",
          "name": "stdout",
          "text": [
            "Ingrese el valor máximo: 7\n",
            "0\n",
            "1\n",
            "1\n",
            "2\n",
            "3\n",
            "5\n"
          ]
        }
      ]
    },
    {
      "cell_type": "code",
      "source": [
        "#problema 7\n",
        "numero = float(int(input(\"Ingrese un número positivo: \")))\n",
        "\n",
        "if numero < 0:\n",
        "    print(\"TIENE QUE SE POSITIVO\")\n",
        "else:\n",
        "    suma = 0\n",
        "\n",
        "    while numero > 0:\n",
        "        digito = numero % 10\n",
        "        suma += digito\n",
        "        numero //= 10\n",
        "\n",
        "    print(\"La suma es:\", suma)"
      ],
      "metadata": {
        "colab": {
          "base_uri": "https://localhost:8080/"
        },
        "id": "7WJsRV2Sv-Vl",
        "outputId": "18431b41-e862-41f9-893b-c8913fcdf710"
      },
      "execution_count": 13,
      "outputs": [
        {
          "output_type": "stream",
          "name": "stdout",
          "text": [
            "Ingrese un número positivo: 9\n",
            "La suma es: 9.0\n"
          ]
        }
      ]
    },
    {
      "cell_type": "code",
      "source": [
        "#problema 8\n",
        "num = int(input(\"Ingrese un número: \"))\n",
        "\n",
        "if num < 0:\n",
        "    print(\"El número es inválido\")\n",
        "else:\n",
        "    suma = 0\n",
        "\n",
        "    while num > 0:\n",
        "        digito = num % 10\n",
        "        suma += digito\n",
        "        num //= 10\n",
        "\n",
        "    print(\"La suma es:\", suma)\n",
        ""
      ],
      "metadata": {
        "colab": {
          "base_uri": "https://localhost:8080/"
        },
        "id": "_e05xVbgwKlv",
        "outputId": "64ae2dd6-cbb5-4af3-b994-f5478d69b138"
      },
      "execution_count": 14,
      "outputs": [
        {
          "output_type": "stream",
          "name": "stdout",
          "text": [
            "Ingrese un número: 7\n",
            "La suma es: 7\n"
          ]
        }
      ]
    },
    {
      "cell_type": "code",
      "source": [],
      "metadata": {
        "colab": {
          "base_uri": "https://localhost:8080/"
        },
        "id": "48nBSgf0wa6K",
        "outputId": "a4e0e7aa-5a1f-4f53-8c45-0c4ce02cec0e"
      },
      "execution_count": 15,
      "outputs": [
        {
          "output_type": "execute_result",
          "data": {
            "text/plain": [
              "5"
            ]
          },
          "metadata": {},
          "execution_count": 15
        }
      ]
    },
    {
      "cell_type": "code",
      "source": [],
      "metadata": {
        "id": "NgFSzcoswl_P"
      },
      "execution_count": null,
      "outputs": []
    }
  ]
}