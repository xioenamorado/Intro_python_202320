{
  "nbformat": 4,
  "nbformat_minor": 0,
  "metadata": {
    "colab": {
      "provenance": [],
      "authorship_tag": "ABX9TyPyGGXNlQR/4gPlAYvxVq11",
      "include_colab_link": true
    },
    "kernelspec": {
      "name": "python3",
      "display_name": "Python 3"
    },
    "language_info": {
      "name": "python"
    }
  },
  "cells": [
    {
      "cell_type": "markdown",
      "metadata": {
        "id": "view-in-github",
        "colab_type": "text"
      },
      "source": [
        "<a href=\"https://colab.research.google.com/github/xioenamorado/Intro_python_202320/blob/main/taller.ipynb\" target=\"_parent\"><img src=\"https://colab.research.google.com/assets/colab-badge.svg\" alt=\"Open In Colab\"/></a>"
      ]
    },
    {
      "cell_type": "markdown",
      "source": [
        "xiomara Enamorado Racero_id_000499773"
      ],
      "metadata": {
        "id": "wKEwZm22ULC0"
      }
    },
    {
      "cell_type": "code",
      "execution_count": 1,
      "metadata": {
        "colab": {
          "base_uri": "https://localhost:8080/"
        },
        "id": "9EW0kUL3TRXi",
        "outputId": "d21ee448-b351-4ff3-92c4-fe12f28acfd3"
      },
      "outputs": [
        {
          "output_type": "stream",
          "name": "stdout",
          "text": [
            "Digite su nota del (0 al 5): 3\n",
            "Has aprobado la nota:  3.0\n"
          ]
        }
      ],
      "source": [
        "nota=float(input(\"Digite su nota del (0 al 5): \"))\n",
        "if nota >= 3:\n",
        "  print(\"Has aprobado la nota: \", nota)\n",
        "else:\n",
        "  print(\"Has perdido la nota: \", nota)"
      ]
    },
    {
      "cell_type": "code",
      "source": [
        "numero=float(input(\"Digite un numero cualquiera: \" ))\n",
        "if numero > 0:\n",
        "  print(\"El digito ingresado es positivo: \", numero)\n",
        "else:\n",
        "    print(\"el digito ingresado es negativo: \", numero)"
      ],
      "metadata": {
        "colab": {
          "base_uri": "https://localhost:8080/"
        },
        "id": "JCNL3ApWTdPT",
        "outputId": "7b403d81-6e37-42fb-e7b1-7de5ec4661c7"
      },
      "execution_count": 2,
      "outputs": [
        {
          "output_type": "stream",
          "name": "stdout",
          "text": [
            "Digite un numero cualquiera: 6\n",
            "El digito ingresado es positivo:  6.0\n"
          ]
        }
      ]
    },
    {
      "cell_type": "code",
      "source": [
        "#programa para saber si la contraseña es valida o no.\n",
        "contraseña=(input(\"Favor, ingresar su contraseña\"))\n",
        "if contraseña == \"python123\":\n",
        "  print(\"La contraseña es valida\")\n",
        "else:\n",
        "  print(\"La contraseña es incorrecta\")"
      ],
      "metadata": {
        "colab": {
          "base_uri": "https://localhost:8080/"
        },
        "id": "oJqc5cd9TlX0",
        "outputId": "8ac29e52-1d85-4949-a2b7-83ec4947c387"
      },
      "execution_count": 3,
      "outputs": [
        {
          "output_type": "stream",
          "name": "stdout",
          "text": [
            "Favor, ingresar su contraseñapython321\n",
            "La contraseña es incorrecta\n"
          ]
        }
      ]
    },
    {
      "cell_type": "code",
      "source": [
        "#programa para saber si el numero agragado es par o impar\n",
        "numero = float(input(\"Digite un numero\"))\n",
        "if numero %2 == 0:\n",
        "  print(\"El numero ingresado es par \")\n",
        "else:\n",
        "    print(\"El numero ingresado es impar \")"
      ],
      "metadata": {
        "colab": {
          "base_uri": "https://localhost:8080/"
        },
        "id": "aKgponLxTrOo",
        "outputId": "7792bd62-a565-44c5-87f1-476e8a48e033"
      },
      "execution_count": 4,
      "outputs": [
        {
          "output_type": "stream",
          "name": "stdout",
          "text": [
            "Digite un numero7\n",
            "El numero ingresado es impar \n"
          ]
        }
      ]
    },
    {
      "cell_type": "code",
      "source": [
        "#Determinar cual es el numero mayor\n",
        "numero1 = float(input(\"Digite el primer numero\" ))\n",
        "numero2 = float(input(\"Digite el segundo numero\" ))\n",
        "numero3 = float(input(\"Digite el tercer numero\" ))\n",
        "numero4 = float(input(\"Digite el cuarto numero\" ))\n",
        "numero5 = float(input(\"Digite el quinto numero\" ))\n",
        "if numero1 >= numero2 and numero1 >= numero3 and numero1 >= numero4 and numero1 >= numero5:\n",
        "  mayor = numero1\n",
        "if numero2 >= numero1 and numero2 >= numero3 and numero2 >= numero4 and numero2 >= numero5:\n",
        "  mayor = numero2\n",
        "if numero3 >= numero1 and numero3 >= numero2 and numero3 >= numero4 and numero3 >= numero5:\n",
        "  mayor = numero3\n",
        "if numero4 >= numero1 and numero4 >= numero2 and numero4 >= numero3 and numero4 >= numero5:\n",
        "  mayor = numero4\n",
        "else:\n",
        "  mayor = numero5\n",
        "print(\"El numero mayor es: \", mayor)"
      ],
      "metadata": {
        "colab": {
          "base_uri": "https://localhost:8080/"
        },
        "id": "O8bpM2RiTzMy",
        "outputId": "781684c1-103a-483d-87f0-8acd9ec30da4"
      },
      "execution_count": 5,
      "outputs": [
        {
          "output_type": "stream",
          "name": "stdout",
          "text": [
            "Digite el primer numero3\n",
            "Digite el segundo numero7\n",
            "Digite el tercer numero0\n",
            "Digite el cuarto numero6\n",
            "Digite el quinto numero3\n",
            "El numero mayor es:  3.0\n"
          ]
        }
      ]
    },
    {
      "cell_type": "code",
      "source": [
        "#programa para categorizar edades\n",
        "edad = int(input(\"Ingrese una edad cualquiera \"))\n",
        "\n",
        "if 0 <= edad <= 12:\n",
        "    categoria = \"niño\"\n",
        "if 13 <= edad <= 19:\n",
        "    categoria = \"Adolecente\"\n",
        "if 20 <= edad <= 64:\n",
        "    categoria = \"Adulto\"\n",
        "else:\n",
        "    categoria = \"Adulto mayor\"\n",
        "print(\"La persona esta en la categoria: \", categoria)"
      ],
      "metadata": {
        "colab": {
          "base_uri": "https://localhost:8080/"
        },
        "id": "_P64yt-cT5n0",
        "outputId": "bf18c948-b05e-4830-cb61-f836d57f843b"
      },
      "execution_count": 6,
      "outputs": [
        {
          "output_type": "stream",
          "name": "stdout",
          "text": [
            "Ingrese una edad cualquiera 89\n",
            "La persona esta en la categoria:  Adulto mayor\n"
          ]
        }
      ]
    },
    {
      "cell_type": "code",
      "source": [],
      "metadata": {
        "id": "EmKJskf1UC4O"
      },
      "execution_count": 6,
      "outputs": []
    }
  ]
}