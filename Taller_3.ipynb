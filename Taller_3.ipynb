{
  "nbformat": 4,
  "nbformat_minor": 0,
  "metadata": {
    "colab": {
      "provenance": [],
      "authorship_tag": "ABX9TyMs2ex1c/UCkAorqrpTFg7x",
      "include_colab_link": true
    },
    "kernelspec": {
      "name": "python3",
      "display_name": "Python 3"
    },
    "language_info": {
      "name": "python"
    }
  },
  "cells": [
    {
      "cell_type": "markdown",
      "metadata": {
        "id": "view-in-github",
        "colab_type": "text"
      },
      "source": [
        "<a href=\"https://colab.research.google.com/github/xioenamorado/Intro_python_202320/blob/main/Taller_3.ipynb\" target=\"_parent\"><img src=\"https://colab.research.google.com/assets/colab-badge.svg\" alt=\"Open In Colab\"/></a>"
      ]
    },
    {
      "cell_type": "markdown",
      "source": [
        "Calcular la posicion de una particula a partir de la ecuacion\n",
        "x = x0 + v0 * t + 1 / 2 * a * t ** 2"
      ],
      "metadata": {
        "id": "k2v-Xdv6r0nM"
      }
    },
    {
      "cell_type": "code",
      "source": [
        "x0 = float(input(\"digite la posicion inicial: \")) # posicion inicial de la particula\n",
        "v0 = float(input(\"digite la velocidad inicial: \")) # velocidad inicial de la particula\n",
        "a = float(input(\"digite la aceleracion (a): \")) # aceleracion de la particula\n",
        "tiempo1 = float(input(\"digite el tiempo1: \")) # primer instante de tiempo\n",
        "tiempo2 = float(input(\"digite el tiempo2: \")) # segundo instante de tiempo\n",
        "\n",
        "# realizar calculos de los 2 instantes de tiempo dados anteriormente por el usuario\n",
        "instante1 = x0 + v0 * tiempo1 + 0.5 * a * tiempo1 ** 2\n",
        "instante2 = x0 + v0 * tiempo2 + 0.5 * a * tiempo2 ** 2\n",
        "\n",
        "print(f\"la posicion en el primer instante es: {instante1}\")\n",
        "print(f\"la posicion en el seguno instante es: {instante2}\")\n"
      ],
      "metadata": {
        "colab": {
          "base_uri": "https://localhost:8080/"
        },
        "id": "6isFOpc9toE6",
        "outputId": "f8db397c-50df-4cd7-8d65-6c693777c69c"
      },
      "execution_count": null,
      "outputs": [
        {
          "output_type": "stream",
          "name": "stdout",
          "text": [
            "digite la posicion inicial: 5\n",
            "digite la velocidad inicial: 20\n",
            "digite la aceleracion (a): 7\n",
            "digite el tiempo1: 8\n",
            "digite el tiempo2: 16\n",
            "la posicion en el primer instante es: 389.0\n",
            "la posicion en el seguno instante es: 1221.0\n"
          ]
        }
      ]
    },
    {
      "cell_type": "markdown",
      "source": [
        "calcular y mostrar la distancia entre 2 puntos p1 y p2 ubicados en las coordenadas (x1 , y1) y (x2 , y2)"
      ],
      "metadata": {
        "id": "b2_Z_fioxfWh"
      }
    },
    {
      "cell_type": "code",
      "source": [
        "# primero debemos importar la libreria math con el fin de poder realizar el debido calculo en la formula ya que esta en raiz cuadrada\n",
        "import math\n",
        "\n",
        "# procedemos a declarar nuestras variables a usar\n",
        "# realizamos la debida peticion al usuario para que este nos ingrese las coordenadas de los puntos\n",
        "# coordenadas del punto 1\n",
        "x1 = float(input(\"digite la coordenada x1: \"))\n",
        "y1 = float(input(\"digite la coordenada y2 \"))\n",
        "# coordenadas del punto 2\n",
        "x2 = float(input(\"digite la coordenada x2 \"))\n",
        "y2 = float(input(\"digite la coordenada y2 \"))\n",
        "\n",
        "d = math.sqrt((x2-x1)**2+(y2-y1)**2)\n",
        "print(f\"la distancia entre el primer punto y del segundo punto es de: {d}\")\n",
        "\n",
        "\n"
      ],
      "metadata": {
        "colab": {
          "base_uri": "https://localhost:8080/"
        },
        "id": "qR6dHqFdw0s-",
        "outputId": "fb083ecb-4406-4b7d-b761-86a9493205c1"
      },
      "execution_count": null,
      "outputs": [
        {
          "output_type": "stream",
          "name": "stdout",
          "text": [
            "digite la coordenada x1: 2\n",
            "digite la coordenada y2 4\n",
            "digite la coordenada x2 8\n",
            "digite la coordenada y2 3\n",
            "la distancia entre el primer punto y del segundo punto es de: 6.082762530298219\n"
          ]
        }
      ]
    },
    {
      "cell_type": "markdown",
      "source": [
        "calcular el volumen de un cilindro con la formula:\n",
        "v = math.pi * r ** 2 * h"
      ],
      "metadata": {
        "id": "rpOLCcsF2TB5"
      }
    },
    {
      "cell_type": "code",
      "source": [
        "# declaramos los valoreas a usar. (float) para ingresar los datos decimales\n",
        "# registramos los valores de pi\n",
        "pi = 3.141592\n",
        "\n",
        "r = float(input(\"digite el radio: \"))\n",
        "h = float(input(\"digite la altura: \"))\n",
        "\n",
        "#calculamos el valor del cilindro con la siguiente formula\n",
        "v = pi * r ** 2 * h\n",
        "print(f\"el volumen del cilinro es: {v}\")"
      ],
      "metadata": {
        "colab": {
          "base_uri": "https://localhost:8080/"
        },
        "id": "_vN6yxZp2LYX",
        "outputId": "778ae735-c2a3-4fae-d721-7604c1d66460"
      },
      "execution_count": null,
      "outputs": [
        {
          "output_type": "stream",
          "name": "stdout",
          "text": [
            "digite el radio: 2\n",
            "digite la altura: 7.5\n",
            "el volumen del cilinro es: 94.24776\n"
          ]
        }
      ]
    },
    {
      "cell_type": "markdown",
      "source": [
        "Calcular los resultados de las operaciones logicas"
      ],
      "metadata": {
        "id": "LlvcuKbz4ZW-"
      }
    },
    {
      "cell_type": "code",
      "source": [
        "# declaramos variables de ingreso por usuario\n",
        "A = float(input(\"digite A: \")) #valor numerico de A (decimal)\n",
        "B = float(input(\"digite B: \")) #valor numerico de B (decimal)\n",
        "C = float(input(\"digite C: \")) #valor numerico de C (decimal)\n",
        "D = float(input(\"digite D: \")) #valor numerico de D (decimal)\n",
        "\n",
        "#se realiza el calculo de cada una de las operaciones logicas\n",
        "Rta1 = A > B and B > D #primera formula\n",
        "Rta2 = B <= C or C < D #segunda formula\n",
        "Rta3 = A == B and B > C #tercera formula\n",
        "Rta4 = A < C or B < C #cuarta formula\n",
        "Rta5 = A + D < C and B > 5 #quinta formula\n",
        "Rta6 = D - C >= -A * B #sexta formula\n",
        "Rta7 = D * C == 5 or c * A > 9 #septima formula\n",
        "Rta8 = A * B + C > -D * 10 #octava formula\n",
        "\n",
        "#se imprime en pantalla los resultados obtenidos anteriormente en cada una de las operaciones logicas\n",
        "print(f\"1. A > B and B > D: {Rta1}\")\n",
        "print(f\"2. B <= C or C < D: {Rta2}\")\n",
        "print(f\"3. A == B and B > C: {Rta3}\")\n",
        "print(f\"4. A < C or B < C: {Rta4}\")\n",
        "print(f\"5. A + D < C and B > 5: {Rta5}\")\n",
        "print(f\"6. D - C >= -A * B: {Rta6}\")\n",
        "print(f\"7. D * C == 5 or c * A > 9: {Rta7}\")\n",
        "print(f\"8. A * B + C > -D * 10: {Rta8}\")\n",
        "\n"
      ],
      "metadata": {
        "colab": {
          "base_uri": "https://localhost:8080/",
          "height": 314
        },
        "id": "xSfnvC2U4SB2",
        "outputId": "dd663125-c894-4819-aa52-bd203dba8ea2"
      },
      "execution_count": 22,
      "outputs": [
        {
          "name": "stdout",
          "output_type": "stream",
          "text": [
            "digite A: 5.8\n",
            "digite B: 8.0\n",
            "digite C: 5.5\n",
            "digite D: 6.9\n"
          ]
        },
        {
          "output_type": "error",
          "ename": "NameError",
          "evalue": "ignored",
          "traceback": [
            "\u001b[0;31m---------------------------------------------------------------------------\u001b[0m",
            "\u001b[0;31mNameError\u001b[0m                                 Traceback (most recent call last)",
            "\u001b[0;32m<ipython-input-22-6b78207beba1>\u001b[0m in \u001b[0;36m<cell line: 14>\u001b[0;34m()\u001b[0m\n\u001b[1;32m     12\u001b[0m \u001b[0mRta5\u001b[0m \u001b[0;34m=\u001b[0m \u001b[0mA\u001b[0m \u001b[0;34m+\u001b[0m \u001b[0mD\u001b[0m \u001b[0;34m<\u001b[0m \u001b[0mC\u001b[0m \u001b[0;32mand\u001b[0m \u001b[0mB\u001b[0m \u001b[0;34m>\u001b[0m \u001b[0;36m5\u001b[0m \u001b[0;31m#quinta formula\u001b[0m\u001b[0;34m\u001b[0m\u001b[0;34m\u001b[0m\u001b[0m\n\u001b[1;32m     13\u001b[0m \u001b[0mRta6\u001b[0m \u001b[0;34m=\u001b[0m \u001b[0mD\u001b[0m \u001b[0;34m-\u001b[0m \u001b[0mC\u001b[0m \u001b[0;34m>=\u001b[0m \u001b[0;34m-\u001b[0m\u001b[0mA\u001b[0m \u001b[0;34m*\u001b[0m \u001b[0mB\u001b[0m \u001b[0;31m#sexta formula\u001b[0m\u001b[0;34m\u001b[0m\u001b[0;34m\u001b[0m\u001b[0m\n\u001b[0;32m---> 14\u001b[0;31m \u001b[0mRta7\u001b[0m \u001b[0;34m=\u001b[0m \u001b[0mD\u001b[0m \u001b[0;34m*\u001b[0m \u001b[0mC\u001b[0m \u001b[0;34m==\u001b[0m \u001b[0;36m5\u001b[0m \u001b[0;32mor\u001b[0m \u001b[0mc\u001b[0m \u001b[0;34m*\u001b[0m \u001b[0mA\u001b[0m \u001b[0;34m>\u001b[0m \u001b[0;36m9\u001b[0m \u001b[0;31m#septima formula\u001b[0m\u001b[0;34m\u001b[0m\u001b[0;34m\u001b[0m\u001b[0m\n\u001b[0m\u001b[1;32m     15\u001b[0m \u001b[0mRta8\u001b[0m \u001b[0;34m=\u001b[0m \u001b[0mA\u001b[0m \u001b[0;34m*\u001b[0m \u001b[0mB\u001b[0m \u001b[0;34m+\u001b[0m \u001b[0mC\u001b[0m \u001b[0;34m>\u001b[0m \u001b[0;34m-\u001b[0m\u001b[0mD\u001b[0m \u001b[0;34m*\u001b[0m \u001b[0;36m10\u001b[0m \u001b[0;31m#octava formula\u001b[0m\u001b[0;34m\u001b[0m\u001b[0;34m\u001b[0m\u001b[0m\n\u001b[1;32m     16\u001b[0m \u001b[0;34m\u001b[0m\u001b[0m\n",
            "\u001b[0;31mNameError\u001b[0m: name 'c' is not defined"
          ]
        }
      ]
    },
    {
      "cell_type": "code",
      "source": [],
      "metadata": {
        "id": "cODezeYZOJp3"
      },
      "execution_count": null,
      "outputs": []
    }
  ]
}