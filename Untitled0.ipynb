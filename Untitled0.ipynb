{
  "nbformat": 4,
  "nbformat_minor": 0,
  "metadata": {
    "colab": {
      "provenance": [],
      "authorship_tag": "ABX9TyPwUeNEv5EGnB6nKtd2D9Ns",
      "include_colab_link": true
    },
    "kernelspec": {
      "name": "python3",
      "display_name": "Python 3"
    },
    "language_info": {
      "name": "python"
    }
  },
  "cells": [
    {
      "cell_type": "markdown",
      "metadata": {
        "id": "view-in-github",
        "colab_type": "text"
      },
      "source": [
        "<a href=\"https://colab.research.google.com/github/xioenamorado/Intro_python_202320/blob/main/Untitled0.ipynb\" target=\"_parent\"><img src=\"https://colab.research.google.com/assets/colab-badge.svg\" alt=\"Open In Colab\"/></a>"
      ]
    },
    {
      "cell_type": "code",
      "execution_count": 5,
      "metadata": {
        "colab": {
          "base_uri": "https://localhost:8080/"
        },
        "id": "1W1lxlxCfEWe",
        "outputId": "36ab07e6-51f9-4562-dffc-e3946e80ffca"
      },
      "outputs": [
        {
          "output_type": "stream",
          "name": "stdout",
          "text": [
            "los numeros son diferentes\n"
          ]
        }
      ],
      "source": [
        "if 3==4 :\n",
        "  print(\"los numeros son iguales\")\n",
        "else:\n",
        "    print(\"los numeros son diferentes\")\n"
      ]
    },
    {
      "cell_type": "code",
      "source": [
        "b = float(input(\"ingrese la base del triangula\"))\n",
        "h = float(input(\"ingrese la altura del triangula\"))\n",
        "A = (b*h)/2\n",
        "print(A)\n",
        "\n",
        "if A > 1000:\n",
        "  print(\"terreno grande\")\n",
        "else:\n",
        "  print(\"terreno adecuado\")"
      ],
      "metadata": {
        "colab": {
          "base_uri": "https://localhost:8080/"
        },
        "id": "tKefI0wTfjP-",
        "outputId": "605e1727-dd07-40dd-cc82-6c29df8f757d"
      },
      "execution_count": 8,
      "outputs": [
        {
          "output_type": "stream",
          "name": "stdout",
          "text": [
            "ingrese la base del triangula100\n",
            "ingrese la altura del triangula200\n",
            "10000.0\n",
            "terreno grande\n"
          ]
        }
      ]
    },
    {
      "cell_type": "code",
      "source": [],
      "metadata": {
        "id": "QMHJp6vjihCN"
      },
      "execution_count": 8,
      "outputs": []
    }
  ]
}