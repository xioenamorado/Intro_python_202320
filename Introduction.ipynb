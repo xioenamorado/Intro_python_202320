{
  "nbformat": 4,
  "nbformat_minor": 0,
  "metadata": {
    "colab": {
      "provenance": [],
      "authorship_tag": "ABX9TyPr8GWJiZADIyA+/f0jyU2C",
      "include_colab_link": true
    },
    "kernelspec": {
      "name": "python3",
      "display_name": "Python 3"
    },
    "language_info": {
      "name": "python"
    }
  },
  "cells": [
    {
      "cell_type": "markdown",
      "metadata": {
        "id": "view-in-github",
        "colab_type": "text"
      },
      "source": [
        "<a href=\"https://colab.research.google.com/github/xioenamorado/Intro_python_202320/blob/main/Introduction.ipynb\" target=\"_parent\"><img src=\"https://colab.research.google.com/assets/colab-badge.svg\" alt=\"Open In Colab\"/></a>"
      ]
    },
    {
      "cell_type": "markdown",
      "source": [
        "#introduccion a python\n",
        "## curso de progrmacion y algoritmia UPB 2023\n",
        "- Nombre: Xiomara Enamorado Racero\n",
        "- ID: 499773\n",
        "- Email: xiomara.enamorado@upb.edu.co\n",
        "Esta es la expresion de la linea recta:\n",
        "$$ y= mx+b$$\n",
        "Donde $x$ es la posicion"
      ],
      "metadata": {
        "id": "aePHLbIJF5Vx"
      }
    },
    {
      "cell_type": "code",
      "source": [],
      "metadata": {
        "id": "ZxXFjvPgIHcj"
      },
      "execution_count": null,
      "outputs": []
    },
    {
      "cell_type": "code",
      "source": [],
      "metadata": {
        "id": "Ozcyl5i8FZZa"
      },
      "execution_count": null,
      "outputs": []
    }
  ]
}