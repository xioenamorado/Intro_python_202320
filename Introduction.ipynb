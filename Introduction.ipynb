{
  "nbformat": 4,
  "nbformat_minor": 0,
  "metadata": {
    "colab": {
      "provenance": [],
      "authorship_tag": "ABX9TyNjrO6W2SxN6v4lkAagrsSx",
      "include_colab_link": true
    },
    "kernelspec": {
      "name": "python3",
      "display_name": "Python 3"
    },
    "language_info": {
      "name": "python"
    }
  },
  "cells": [
    {
      "cell_type": "markdown",
      "metadata": {
        "id": "view-in-github",
        "colab_type": "text"
      },
      "source": [
        "<a href=\"https://colab.research.google.com/github/xioenamorado/Intro_python_202320/blob/main/Introduction.ipynb\" target=\"_parent\"><img src=\"https://colab.research.google.com/assets/colab-badge.svg\" alt=\"Open In Colab\"/></a>"
      ]
    },
    {
      "cell_type": "markdown",
      "source": [
        "#introduccion a python\n",
        "## curso de progrmacion y algoritmia UPB 2023\n",
        "- Nombre: Xiomara Enamorado Racero\n",
        "- ID: 499773\n",
        "- Email: xiomara.enamorado@upb.edu.co\n",
        "Esta es la expresion de la linea recta:\n",
        "$$ y= mx+b$$\n",
        "Donde $x$ es la posicion"
      ],
      "metadata": {
        "id": "aePHLbIJF5Vx"
      }
    },
    {
      "cell_type": "code",
      "source": [
        "# comentario\n",
        "\n",
        "#mis primera lineas de codigo en Python\n",
        "name= \"xiomara enamorado\"\n",
        "print(\"hello,\", name)"
      ],
      "metadata": {
        "colab": {
          "base_uri": "https://localhost:8080/"
        },
        "id": "9iBi0tm_Sk33",
        "outputId": "c84f765f-a817-4843-982d-796874a2f1d1"
      },
      "execution_count": 2,
      "outputs": [
        {
          "output_type": "stream",
          "name": "stdout",
          "text": [
            "hello, xiomara enamorado\n"
          ]
        }
      ]
    },
    {
      "cell_type": "code",
      "source": [
        "firstname = \"xiomara\"\n",
        "lastname = \"enamorado\"\n",
        "age =\"18 años\"\n",
        "city = \"monteria\"\n",
        "food = \"chicharron\"\n",
        "print(\"mi nombre es\" ,firstname, lastname, \"y tengo\" , age, \"vivo en\", city, \"y me gusta el\", food)\n"
      ],
      "metadata": {
        "colab": {
          "base_uri": "https://localhost:8080/"
        },
        "id": "T0VSTajbTA0v",
        "outputId": "ded27ebb-1d04-45a6-febc-8f187c77787c"
      },
      "execution_count": 4,
      "outputs": [
        {
          "output_type": "stream",
          "name": "stdout",
          "text": [
            "mi nombre es xiomara enamorado y tengo 18 años vivo en monteria y me gusta el chicharron\n"
          ]
        }
      ]
    },
    {
      "cell_type": "code",
      "source": [],
      "metadata": {
        "id": "e1SPTB9QWW3n"
      },
      "execution_count": null,
      "outputs": []
    }
  ]
}