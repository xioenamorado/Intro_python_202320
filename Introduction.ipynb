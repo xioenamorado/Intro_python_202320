{
  "nbformat": 4,
  "nbformat_minor": 0,
  "metadata": {
    "colab": {
      "provenance": [],
      "authorship_tag": "ABX9TyMUSO/w3Eq80W2iPm8ah37i",
      "include_colab_link": true
    },
    "kernelspec": {
      "name": "python3",
      "display_name": "Python 3"
    },
    "language_info": {
      "name": "python"
    }
  },
  "cells": [
    {
      "cell_type": "markdown",
      "metadata": {
        "id": "view-in-github",
        "colab_type": "text"
      },
      "source": [
        "<a href=\"https://colab.research.google.com/github/xioenamorado/Intro_python_202320/blob/main/Introduction.ipynb\" target=\"_parent\"><img src=\"https://colab.research.google.com/assets/colab-badge.svg\" alt=\"Open In Colab\"/></a>"
      ]
    },
    {
      "cell_type": "markdown",
      "source": [
        "#introduccion a python\n",
        "## curso de progrmacion y algoritmia UPB 2023\n",
        "- Nombre: Xiomara Enamorado Racero\n",
        "- ID: 499773\n",
        "- Email: xiomara.enamorado@upb.edu.co\n",
        "Esta es la expresion de la linea recta:\n",
        "$$ y= mx+b$$\n",
        "Donde $x$ es la posicion"
      ],
      "metadata": {
        "id": "aePHLbIJF5Vx"
      }
    },
    {
      "cell_type": "code",
      "source": [
        "# comentario\n",
        "\n",
        "#mis primera lineas de codigo en Python\n",
        "name= \"xiomara enamorado\"\n",
        "print(\"hello,\", name)"
      ],
      "metadata": {
        "colab": {
          "base_uri": "https://localhost:8080/"
        },
        "id": "9iBi0tm_Sk33",
        "outputId": "c84f765f-a817-4843-982d-796874a2f1d1"
      },
      "execution_count": null,
      "outputs": [
        {
          "output_type": "stream",
          "name": "stdout",
          "text": [
            "hello, xiomara enamorado\n"
          ]
        }
      ]
    },
    {
      "cell_type": "code",
      "source": [
        "firstname = \"xiomara\"\n",
        "lastname = \"enamorado\"\n",
        "age =\"18 años\"\n",
        "city = \"monteria\"\n",
        "food = \"chicharron\"\n",
        "print(\"mi nombre es\" ,firstname, lastname, \"y tengo\" , age, \"vivo en\", city, \"y me gusta el\", food)\n"
      ],
      "metadata": {
        "colab": {
          "base_uri": "https://localhost:8080/"
        },
        "id": "T0VSTajbTA0v",
        "outputId": "ded27ebb-1d04-45a6-febc-8f187c77787c"
      },
      "execution_count": null,
      "outputs": [
        {
          "output_type": "stream",
          "name": "stdout",
          "text": [
            "mi nombre es xiomara enamorado y tengo 18 años vivo en monteria y me gusta el chicharron\n"
          ]
        }
      ]
    },
    {
      "cell_type": "code",
      "source": [
        "a = 3\n",
        "b = 4.5\n",
        "c = a + b\n",
        "print(type(a))\n",
        "print(type(b))\n",
        "print(c)\n",
        "c = c * a\n",
        "print(c)\n",
        "c = int(c / b)\n",
        "print(c)\n",
        "d = 0.3\n",
        "c += 0.3\n",
        "print(c)\n",
        "c /= d\n",
        "print(c)\n"
      ],
      "metadata": {
        "colab": {
          "base_uri": "https://localhost:8080/"
        },
        "id": "pULJ5Wu5aCFV",
        "outputId": "2677a65c-6e35-4390-d4c7-ee88d07c9af3"
      },
      "execution_count": 14,
      "outputs": [
        {
          "output_type": "stream",
          "name": "stdout",
          "text": [
            "<class 'int'>\n",
            "<class 'float'>\n",
            "7.5\n",
            "22.5\n",
            "5\n",
            "5.3\n",
            "17.666666666666668\n"
          ]
        }
      ]
    },
    {
      "cell_type": "code",
      "source": [
        "m = 5\n",
        "b = 2\n",
        "x = -3\n",
        "y = m * x + b\n",
        "print(x, ' /---/' , y)\n",
        "x = -1\n",
        "y = m * x + b\n",
        "print(x, \"/---\" , y)\n",
        "x = -2\n",
        "y = m * x + b\n",
        "print(x, \"/---/\", y)"
      ],
      "metadata": {
        "id": "e1SPTB9QWW3n",
        "colab": {
          "base_uri": "https://localhost:8080/"
        },
        "outputId": "16341359-1053-4c42-bd49-f2adf59f74f0"
      },
      "execution_count": 21,
      "outputs": [
        {
          "output_type": "stream",
          "name": "stdout",
          "text": [
            "-3  /---/ -13\n",
            "-1 /--- -3\n",
            "-2 /---/ -8\n"
          ]
        }
      ]
    },
    {
      "cell_type": "code",
      "source": [
        "a = 1\n",
        "b = -8\n",
        "c = 1\n",
        "disc = (b ** 2 - 4 * a * c) ** (1/2)\n",
        "x_p = (-b + disc) / (2 * a)\n",
        "x_n = (-b + disc) / (2 * a)\n",
        "print(\"x_p:\" , x_p)\n",
        "print(\"x_n:\" , x_n)\n",
        "print(\"_\"*10)\n",
        "\n",
        "a = 6\n",
        "b = -9\n",
        "c = 1\n",
        "disc = (b ** 2 - 4 * a * c) ** (1/2)\n",
        "x_p = (-b + disc) / (2 * a)\n",
        "x_n = (-b + disc) / (2 * a)\n",
        "print(\"x_p:\" , x_p)\n",
        "print(\"x_n:\" , x_n)\n",
        "print(\"_\"*10)\n",
        "\n",
        "a = 5\n",
        "b = -8\n",
        "c = 9\n",
        "disc = (b ** 2 - 4 * a * c) ** (1/2)\n",
        "x_p = (-b + disc) / (2 * a)\n",
        "x_n = (-b + disc) / (2 * a)\n",
        "print(\"x_p:\" , x_p)\n",
        "print(\"x_n:\" , x_n)\n",
        "print(\"_\"*10)"
      ],
      "metadata": {
        "colab": {
          "base_uri": "https://localhost:8080/"
        },
        "id": "ho4aMsasfyhr",
        "outputId": "f030819b-ed45-4bbb-c86b-004b49c94016"
      },
      "execution_count": 28,
      "outputs": [
        {
          "output_type": "stream",
          "name": "stdout",
          "text": [
            "x_p: 7.872983346207417\n",
            "x_n: 7.872983346207417\n",
            "__________\n",
            "x_p: 1.379152869605896\n",
            "x_n: 1.379152869605896\n",
            "__________\n",
            "x_p: (0.8+1.0770329614269007j)\n",
            "x_n: (0.8+1.0770329614269007j)\n",
            "__________\n"
          ]
        }
      ]
    },
    {
      "cell_type": "code",
      "source": [
        "firsname = \"xiomara\"\n",
        "lastname = \"Enamorado\"\n",
        "fullname = firsname + \" \" + lastname\n",
        "print(fullname)"
      ],
      "metadata": {
        "colab": {
          "base_uri": "https://localhost:8080/"
        },
        "id": "hSTkT6gzjCXa",
        "outputId": "7fbd4760-43a0-49c6-bcf6-de1796b6365e"
      },
      "execution_count": 31,
      "outputs": [
        {
          "output_type": "stream",
          "name": "stdout",
          "text": [
            "xiomara Enamorado\n"
          ]
        }
      ]
    },
    {
      "cell_type": "code",
      "source": [
        "song = \"\"\"querer querernos (canserbero)\"\"\"\n",
        "print(song)"
      ],
      "metadata": {
        "colab": {
          "base_uri": "https://localhost:8080/"
        },
        "id": "4SdCa3bAnlST",
        "outputId": "11533a8c-6fcd-403f-83d8-4240e23a530a"
      },
      "execution_count": 32,
      "outputs": [
        {
          "output_type": "stream",
          "name": "stdout",
          "text": [
            "querer querernos (canserbero)\n"
          ]
        }
      ]
    },
    {
      "cell_type": "code",
      "source": [
        "a = 3\n",
        "b = 5\n",
        "print( a == b)\n",
        "print(a != b)\n",
        "print( a > b)\n",
        "print( a == b) and (b + 3 > 5)\n",
        "print( a == b) or (b + 3 > 5)\n",
        "print(not(a ==b))"
      ],
      "metadata": {
        "colab": {
          "base_uri": "https://localhost:8080/"
        },
        "id": "73WgJVnuoX3w",
        "outputId": "cd479ed5-0e2c-4777-8759-47bcc66f9c85"
      },
      "execution_count": 33,
      "outputs": [
        {
          "output_type": "stream",
          "name": "stdout",
          "text": [
            "False\n",
            "True\n",
            "False\n",
            "False\n",
            "False\n",
            "True\n"
          ]
        }
      ]
    },
    {
      "cell_type": "code",
      "source": [],
      "metadata": {
        "id": "IuxxJc0Bpqz_"
      },
      "execution_count": null,
      "outputs": []
    }
  ]
}